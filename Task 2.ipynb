{
 "cells": [
  {
   "cell_type": "code",
   "execution_count": 2,
   "id": "9a14d349",
   "metadata": {},
   "outputs": [],
   "source": [
    "import pyopenms "
   ]
  },
  {
   "cell_type": "code",
   "execution_count": 3,
   "id": "28817b1b",
   "metadata": {},
   "outputs": [],
   "source": [
    "from pyopenms import*"
   ]
  },
  {
   "cell_type": "code",
   "execution_count": 4,
   "id": "dccc7bbb",
   "metadata": {},
   "outputs": [
    {
     "name": "stdout",
     "output_type": "stream",
     "text": [
      "Mass ( 387.2481710527 ) is not equal to summation of mass ( 441.27986624410005 )\n"
     ]
    }
   ],
   "source": [
    "seq=AASequence.fromString(\"VAKA\")\n",
    "seq1=AASequence.fromString(\"V\")\n",
    "seq2=AASequence.fromString(\"A\")\n",
    "seq3=AASequence.fromString(\"K\")\n",
    "seq4=AASequence.fromString(\"A\")\n",
    "Mass=seq.getMonoWeight()\n",
    "Mass1=seq1.getMonoWeight()\n",
    "Mass2=seq2.getMonoWeight()\n",
    "Mass3=seq3.getMonoWeight()\n",
    "Mass4=seq4.getMonoWeight()\n",
    "Mass_Sum=Mass1+Mass2+Mass3+Mass4\n",
    "if Mass == Mass_Sum:\n",
    "    print(\"Mass (\", Mass ,\") is equal to summation of mass (\", Mass_Sum,\")\")\n",
    "else:\n",
    "    print(\"Mass (\", Mass ,\") is not equal to summation of mass (\", Mass_Sum,\")\")"
   ]
  },
  {
   "cell_type": "code",
   "execution_count": null,
   "id": "88fba122",
   "metadata": {},
   "outputs": [],
   "source": []
  },
  {
   "cell_type": "code",
   "execution_count": null,
   "id": "a974dc67",
   "metadata": {},
   "outputs": [],
   "source": []
  }
 ],
 "metadata": {
  "kernelspec": {
   "display_name": "Python 3 (ipykernel)",
   "language": "python",
   "name": "python3"
  },
  "language_info": {
   "codemirror_mode": {
    "name": "ipython",
    "version": 3
   },
   "file_extension": ".py",
   "mimetype": "text/x-python",
   "name": "python",
   "nbconvert_exporter": "python",
   "pygments_lexer": "ipython3",
   "version": "3.9.7"
  }
 },
 "nbformat": 4,
 "nbformat_minor": 5
}
